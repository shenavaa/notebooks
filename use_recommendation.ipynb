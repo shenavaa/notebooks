{
 "cells": [
  {
   "cell_type": "code",
   "execution_count": 17,
   "id": "29226cac",
   "metadata": {},
   "outputs": [
    {
     "name": "stdout",
     "output_type": "stream",
     "text": [
      "Starting Spark application\n"
     ]
    },
    {
     "data": {
      "text/html": [
       "<table>\n",
       "<tr><th>ID</th><th>YARN Application ID</th><th>Kind</th><th>State</th><th>Spark UI</th><th>Driver log</th><th>User</th><th>Current session?</th></tr><tr><td>11</td><td>application_1646196661453_0015</td><td>pyspark</td><td>idle</td><td><a target=\"_blank\" href=\"http://ip-172-31-35-229.ap-southeast-2.compute.internal:20888/proxy/application_1646196661453_0015/\">Link</a></td><td><a target=\"_blank\" href=\"http://ip-172-31-41-51.ap-southeast-2.compute.internal:8042/node/containerlogs/container_1646196661453_0015_01_000001/livy\">Link</a></td><td>None</td><td>✔</td></tr></table>"
      ],
      "text/plain": [
       "<IPython.core.display.HTML object>"
      ]
     },
     "metadata": {},
     "output_type": "display_data"
    },
    {
     "data": {
      "application/vnd.jupyter.widget-view+json": {
       "model_id": "",
       "version_major": 2,
       "version_minor": 0
      },
      "text/plain": [
       "FloatProgress(value=0.0, bar_style='info', description='Progress:', layout=Layout(height='25px', width='50%'),…"
      ]
     },
     "metadata": {},
     "output_type": "display_data"
    },
    {
     "name": "stdout",
     "output_type": "stream",
     "text": [
      "SparkSession available as 'spark'.\n"
     ]
    },
    {
     "data": {
      "text/html": [
       "Current session configs: <tt>{'driverMemory': '4g', 'executorMemory': '8960m', 'proxyUser': 'diego', 'kind': 'pyspark'}</tt><br>"
      ],
      "text/plain": [
       "<IPython.core.display.HTML object>"
      ]
     },
     "metadata": {},
     "output_type": "display_data"
    },
    {
     "data": {
      "text/html": [
       "<table>\n",
       "<tr><th>ID</th><th>YARN Application ID</th><th>Kind</th><th>State</th><th>Spark UI</th><th>Driver log</th><th>User</th><th>Current session?</th></tr><tr><td>11</td><td>application_1646196661453_0015</td><td>pyspark</td><td>idle</td><td><a target=\"_blank\" href=\"http://ip-172-31-35-229.ap-southeast-2.compute.internal:20888/proxy/application_1646196661453_0015/\">Link</a></td><td><a target=\"_blank\" href=\"http://ip-172-31-41-51.ap-southeast-2.compute.internal:8042/node/containerlogs/container_1646196661453_0015_01_000001/livy\">Link</a></td><td>None</td><td>✔</td></tr></table>"
      ],
      "text/plain": [
       "<IPython.core.display.HTML object>"
      ]
     },
     "metadata": {},
     "output_type": "display_data"
    }
   ],
   "source": [
    "%%configure -f\n",
    "{\"driverMemory\": \"4g\", \"executorMemory\":\"8960m\"}"
   ]
  },
  {
   "cell_type": "code",
   "execution_count": 18,
   "id": "800eba55",
   "metadata": {},
   "outputs": [
    {
     "data": {
      "application/vnd.jupyter.widget-view+json": {
       "model_id": "",
       "version_major": 2,
       "version_minor": 0
      },
      "text/plain": [
       "FloatProgress(value=0.0, bar_style='info', description='Progress:', layout=Layout(height='25px', width='50%'),…"
      ]
     },
     "metadata": {},
     "output_type": "display_data"
    }
   ],
   "source": [
    "# Packages to download the corpus and pandas\n",
    "import urllib.request\n",
    "#import pandas as pd\n",
    "# This block is for sparknlp stuff\n",
    "import sparknlp\n",
    "from sparknlp.annotator import *\n",
    "from sparknlp.base import *\n",
    "# This block is for pyspark stuff\n",
    "import pyspark.sql.functions as F\n",
    "import pyspark.sql.types as T\n",
    "from pyspark.ml.linalg import Vectors, VectorUDT\n",
    "from pyspark.ml.feature import BucketedRandomProjectionLSH, BucketedRandomProjectionLSHModel"
   ]
  },
  {
   "cell_type": "code",
   "execution_count": 19,
   "id": "9ac6c33d",
   "metadata": {},
   "outputs": [
    {
     "data": {
      "application/vnd.jupyter.widget-view+json": {
       "model_id": "",
       "version_major": 2,
       "version_minor": 0
      },
      "text/plain": [
       "FloatProgress(value=0.0, bar_style='info', description='Progress:', layout=Layout(height='25px', width='50%'),…"
      ]
     },
     "metadata": {},
     "output_type": "display_data"
    }
   ],
   "source": [
    "hashesDF = spark.read.parquet(\"hdfs:///user/diego/output\").persist()\n",
    "brp_model = BucketedRandomProjectionLSHModel.load(\"hdfs:///user/diego/brp_model.model\")\n",
    "model_use = PipelineModel.load(\"hdfs:///user/diego/model_use.model\")"
   ]
  },
  {
   "cell_type": "code",
   "execution_count": 20,
   "id": "58cf1108",
   "metadata": {},
   "outputs": [
    {
     "data": {
      "application/vnd.jupyter.widget-view+json": {
       "model_id": "",
       "version_major": 2,
       "version_minor": 0
      },
      "text/plain": [
       "FloatProgress(value=0.0, bar_style='info', description='Progress:', layout=Layout(height='25px', width='50%'),…"
      ]
     },
     "metadata": {},
     "output_type": "display_data"
    }
   ],
   "source": [
    "def find_close_sentences(query, emb_model, brp_model, hashesDF, k):\n",
    "  key = get_key(query, emb_model)\n",
    "  resultsDF = brp_model.approxNearestNeighbors(hashesDF, key, k)\n",
    "  return resultsDF"
   ]
  },
  {
   "cell_type": "code",
   "execution_count": 21,
   "id": "2e03a888",
   "metadata": {},
   "outputs": [
    {
     "data": {
      "application/vnd.jupyter.widget-view+json": {
       "model_id": "",
       "version_major": 2,
       "version_minor": 0
      },
      "text/plain": [
       "FloatProgress(value=0.0, bar_style='info', description='Progress:', layout=Layout(height='25px', width='50%'),…"
      ]
     },
     "metadata": {},
     "output_type": "display_data"
    }
   ],
   "source": [
    "def get_key(query, model):\n",
    "  queryDF = spark.createDataFrame([[query]]).toDF(\"text\")\n",
    "  queryDF = model.transform(queryDF)\n",
    "  queryDF = queryDF.select(\n",
    "    F.explode(\n",
    "      F.arrays_zip(\n",
    "        F.col(\"sentence.result\"),\n",
    "        F.col(\"use_embeddings.embeddings\")\n",
    "      )\n",
    "    ).alias(\"zip\")\n",
    "  ).select(\n",
    "    F.col(\"zip\")['0'].alias(\"sentence\"),\n",
    "    myudf(F.col(\"zip\")['1']).alias(\"embeddings\")\n",
    "  )  \n",
    "\n",
    "  key = queryDF.select(\"embeddings\").take(1)[0].embeddings\n",
    "  return key"
   ]
  },
  {
   "cell_type": "code",
   "execution_count": 22,
   "id": "dcd65d12",
   "metadata": {},
   "outputs": [
    {
     "data": {
      "application/vnd.jupyter.widget-view+json": {
       "model_id": "",
       "version_major": 2,
       "version_minor": 0
      },
      "text/plain": [
       "FloatProgress(value=0.0, bar_style='info', description='Progress:', layout=Layout(height='25px', width='50%'),…"
      ]
     },
     "metadata": {},
     "output_type": "display_data"
    }
   ],
   "source": [
    "def avg_vectors(bert_vectors):\n",
    "  \n",
    "  length = len(bert_vectors[0][\"embeddings\"])\n",
    "  avg_vec = [0] * length\n",
    "  \n",
    "  for vec in bert_vectors:\n",
    "    for i, x in enumerate(vec[\"embeddings\"]):\n",
    "      avg_vec[i] += x\n",
    "    avg_vec[i] = avg_vec[i] / length\n",
    "  return avg_vec\n",
    "\n",
    "import pyspark.sql.types as T\n",
    "\n",
    "avg_vectors_udf = F.udf(avg_vectors, T.ArrayType(T.DoubleType()))\n",
    "\n",
    "myudf = F.udf(lambda vs: Vectors.dense(vs), VectorUDT())"
   ]
  },
  {
   "cell_type": "code",
   "execution_count": 34,
   "id": "56098159",
   "metadata": {},
   "outputs": [
    {
     "data": {
      "application/vnd.jupyter.widget-view+json": {
       "model_id": "",
       "version_major": 2,
       "version_minor": 0
      },
      "text/plain": [
       "FloatProgress(value=0.0, bar_style='info', description='Progress:', layout=Layout(height='25px', width='50%'),…"
      ]
     },
     "metadata": {},
     "output_type": "display_data"
    },
    {
     "name": "stdout",
     "output_type": "stream",
     "text": [
      "+---------------------------------------------------------------------------------------------------------------------------------------------------------------------------------------------------------------------------------------------------------------------------+------------------+----------------------------------------------------------------------------------------------------------------------------------------------------------------------------------------------------------------------------------------------------------------------------------------------------------------------------------------------------+\n",
      "|title                                                                                                                                                                                                                                                                      |distCol           |sentence                                                                                                                                                                                                                                                                                                                                            |\n",
      "+---------------------------------------------------------------------------------------------------------------------------------------------------------------------------------------------------------------------------------------------------------------------------+------------------+----------------------------------------------------------------------------------------------------------------------------------------------------------------------------------------------------------------------------------------------------------------------------------------------------------------------------------------------------+\n",
      "|Accelerating Apache and Hadoop Migrations with Cazena&#8217;s Data Lake as a Service on AWS                                                                                                                                                                                |0.4874827751359584|Accelerating Apache and Hadoop Migrations with Cazena&#8217;                                                                                                                                                                                                                                                                                        |\n",
      "|Monitoring Kubernetes Environments with AWS and New Relic&#8217;s Cluster Explorer                                                                                                                                                                                         |0.6724655848414405|Monitoring Kubernetes Environments with AWS and New Relic&#8217;                                                                                                                                                                                                                                                                                    |\n",
      "|Securely Ingest Operational Data from Historian and SCADA platforms like CygNet to Cloud-based Analytics Systems in real-time with AWS Industrial Machine Connectivity (IMC) for Energy using ISV Edge Connectivity solutions like Embassy of Things (EOT) TwinTalk Express|0.6760175461846982|Securely Ingest Operational Data from Historian and SCADA platforms like CygNet to Cloud-based Analytics Systems in real-time with AWS Industrial Machine Connectivity (IMC) for Energy using ISV Edge Connectivity solutions like Embassy of Things (EOT) TwinTalk Express This is part 2 of our blog series on transforming production operations.|\n",
      "|Introduction to Network Transformation on AWS &#8211; Part 1                                                                                                                                                                                                               |0.6822268265659456|Introduction to Network Transformation on AWS &#8211;                                                                                                                                                                                                                                                                                               |\n",
      "|Introduction to Network Transformation on AWS &#8211; Part 2                                                                                                                                                                                                               |0.6822268265659456|Introduction to Network Transformation on AWS &#8211;                                                                                                                                                                                                                                                                                               |\n",
      "+---------------------------------------------------------------------------------------------------------------------------------------------------------------------------------------------------------------------------------------------------------------------------+------------------+----------------------------------------------------------------------------------------------------------------------------------------------------------------------------------------------------------------------------------------------------------------------------------------------------------------------------------------------------+"
     ]
    }
   ],
   "source": [
    "find_close_sentences(\"Hadoop\", model_use, brp_model, hashesDF, 5).select(F.col(\"title\"),F.col(\"distCol\"),F.col(\"sentence\")).show(truncate=False)"
   ]
  },
  {
   "cell_type": "code",
   "execution_count": null,
   "id": "391ea8ac",
   "metadata": {},
   "outputs": [],
   "source": []
  },
  {
   "cell_type": "code",
   "execution_count": null,
   "id": "a40c19bc",
   "metadata": {},
   "outputs": [],
   "source": []
  }
 ],
 "metadata": {
  "kernelspec": {
   "display_name": "PySpark",
   "language": "python",
   "name": "pysparkkernel"
  },
  "language_info": {
   "codemirror_mode": {
    "name": "python",
    "version": 3
   },
   "file_extension": ".py",
   "mimetype": "text/x-python",
   "name": "pyspark",
   "pygments_lexer": "python3"
  }
 },
 "nbformat": 4,
 "nbformat_minor": 5
}
