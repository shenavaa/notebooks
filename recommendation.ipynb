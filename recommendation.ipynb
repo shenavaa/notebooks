{
 "cells": [
  {
   "cell_type": "code",
   "execution_count": 1,
   "id": "57c28833",
   "metadata": {},
   "outputs": [
    {
     "data": {
      "text/html": [
       "Current session configs: <tt>{'driverMemory': '4g', 'executorMemory': '8960m', 'proxyUser': 'diego', 'kind': 'pyspark'}</tt><br>"
      ],
      "text/plain": [
       "<IPython.core.display.HTML object>"
      ]
     },
     "metadata": {},
     "output_type": "display_data"
    },
    {
     "data": {
      "text/html": [
       "No active sessions."
      ],
      "text/plain": [
       "<IPython.core.display.HTML object>"
      ]
     },
     "metadata": {},
     "output_type": "display_data"
    }
   ],
   "source": [
    "%%configure -f\n",
    "{\"driverMemory\": \"4g\", \"executorMemory\":\"8960m\"}"
   ]
  },
  {
   "cell_type": "code",
   "execution_count": 2,
   "id": "f0a407f0",
   "metadata": {},
   "outputs": [
    {
     "name": "stdout",
     "output_type": "stream",
     "text": [
      "Starting Spark application\n"
     ]
    },
    {
     "data": {
      "text/html": [
       "<table>\n",
       "<tr><th>ID</th><th>YARN Application ID</th><th>Kind</th><th>State</th><th>Spark UI</th><th>Driver log</th><th>User</th><th>Current session?</th></tr><tr><td>6</td><td>application_1645496349994_0010</td><td>pyspark</td><td>idle</td><td><a target=\"_blank\" href=\"http://ip-172-31-0-37.ap-southeast-2.compute.internal:20888/proxy/application_1645496349994_0010/\">Link</a></td><td><a target=\"_blank\" href=\"http://ip-172-31-11-161.ap-southeast-2.compute.internal:8042/node/containerlogs/container_1645496349994_0010_01_000001/livy\">Link</a></td><td>None</td><td>✔</td></tr></table>"
      ],
      "text/plain": [
       "<IPython.core.display.HTML object>"
      ]
     },
     "metadata": {},
     "output_type": "display_data"
    },
    {
     "data": {
      "application/vnd.jupyter.widget-view+json": {
       "model_id": "",
       "version_major": 2,
       "version_minor": 0
      },
      "text/plain": [
       "FloatProgress(value=0.0, bar_style='info', description='Progress:', layout=Layout(height='25px', width='50%'),…"
      ]
     },
     "metadata": {},
     "output_type": "display_data"
    },
    {
     "name": "stdout",
     "output_type": "stream",
     "text": [
      "SparkSession available as 'spark'.\n"
     ]
    },
    {
     "data": {
      "application/vnd.jupyter.widget-view+json": {
       "model_id": "",
       "version_major": 2,
       "version_minor": 0
      },
      "text/plain": [
       "FloatProgress(value=0.0, bar_style='info', description='Progress:', layout=Layout(height='25px', width='50%'),…"
      ]
     },
     "metadata": {},
     "output_type": "display_data"
    }
   ],
   "source": [
    "# Packages to download the corpus and pandas\n",
    "import urllib.request\n",
    "#import pandas as pd\n",
    "# This block is for sparknlp stuff\n",
    "import sparknlp\n",
    "from sparknlp.annotator import *\n",
    "from sparknlp.base import *\n",
    "# This block is for pyspark stuff\n",
    "import pyspark.sql.functions as F\n",
    "import pyspark.sql.types as T\n",
    "from pyspark.ml.linalg import Vectors, VectorUDT\n",
    "from pyspark.ml.feature import BucketedRandomProjectionLSH, BucketedRandomProjectionLSHModel"
   ]
  },
  {
   "cell_type": "code",
   "execution_count": 3,
   "id": "a4195953",
   "metadata": {},
   "outputs": [
    {
     "data": {
      "application/vnd.jupyter.widget-view+json": {
       "model_id": "",
       "version_major": 2,
       "version_minor": 0
      },
      "text/plain": [
       "FloatProgress(value=0.0, bar_style='info', description='Progress:', layout=Layout(height='25px', width='50%'),…"
      ]
     },
     "metadata": {},
     "output_type": "display_data"
    }
   ],
   "source": [
    "spark = sparknlp.start()"
   ]
  },
  {
   "cell_type": "code",
   "execution_count": 11,
   "id": "312e7d67",
   "metadata": {},
   "outputs": [
    {
     "data": {
      "application/vnd.jupyter.widget-view+json": {
       "model_id": "",
       "version_major": 2,
       "version_minor": 0
      },
      "text/plain": [
       "FloatProgress(value=0.0, bar_style='info', description='Progress:', layout=Layout(height='25px', width='50%'),…"
      ]
     },
     "metadata": {},
     "output_type": "display_data"
    }
   ],
   "source": [
    "urls = spark.read.json(\"s3://your-bucket/datasets/aws-blogs/json/list.json\")"
   ]
  },
  {
   "cell_type": "code",
   "execution_count": 12,
   "id": "e5bd935a",
   "metadata": {},
   "outputs": [
    {
     "data": {
      "application/vnd.jupyter.widget-view+json": {
       "model_id": "",
       "version_major": 2,
       "version_minor": 0
      },
      "text/plain": [
       "FloatProgress(value=0.0, bar_style='info', description='Progress:', layout=Layout(height='25px', width='50%'),…"
      ]
     },
     "metadata": {},
     "output_type": "display_data"
    },
    {
     "name": "stdout",
     "output_type": "stream",
     "text": [
      "root\n",
      " |-- contentType: string (nullable = true)\n",
      " |-- contributors: string (nullable = true)\n",
      " |-- createdDate: string (nullable = true)\n",
      " |-- displayDate: string (nullable = true)\n",
      " |-- featuredImageUrl: string (nullable = true)\n",
      " |-- link: string (nullable = true)\n",
      " |-- modifiedDate: string (nullable = true)\n",
      " |-- postExcerpt: string (nullable = true)\n",
      " |-- slug: string (nullable = true)\n",
      " |-- title: string (nullable = true)"
     ]
    }
   ],
   "source": [
    "urls.printSchema()"
   ]
  },
  {
   "cell_type": "code",
   "execution_count": 17,
   "id": "02aec9ff",
   "metadata": {},
   "outputs": [
    {
     "data": {
      "application/vnd.jupyter.widget-view+json": {
       "model_id": "",
       "version_major": 2,
       "version_minor": 0
      },
      "text/plain": [
       "FloatProgress(value=0.0, bar_style='info', description='Progress:', layout=Layout(height='25px', width='50%'),…"
      ]
     },
     "metadata": {},
     "output_type": "display_data"
    },
    {
     "name": "stdout",
     "output_type": "stream",
     "text": [
      "+------------------------------------------------------------------------------------------------------------------------------------------------------------------------------------------------------------------------------------------------------------------------------------------------------------------------------------------------------------------------------------------+------------------------------------------------------------------------------------------+---------------------------------------------------------------------------------------------------------------------------------------------------------+\n",
      "|                                                                                                                                                                                                                                                                                                                                                                               postExcerpt|                                                                                     title|                                                                                                                                                     link|\n",
      "+------------------------------------------------------------------------------------------------------------------------------------------------------------------------------------------------------------------------------------------------------------------------------------------------------------------------------------------------------------------------------------------+------------------------------------------------------------------------------------------+---------------------------------------------------------------------------------------------------------------------------------------------------------+\n",
      "|We’ve previously written about the security benefits of using AppStream 2.0 instances as bastion hosts. Bastion hosts (also called “jump boxes”) provide secure access to internal, protected network resources via RDP, SSH, VNC or web browser clients. Now, Elastic fleets combined with Linux instances provide several new advantages for bastion host use cases: Improved cost [...]|Use Elastic fleets and Linux for inexpensive, secure bastion hosts in Amazon AppStream 2.0|https://aws.amazon.com/blogs/desktop-and-application-streaming/use-elastic-fleets-and-linux-for-inexpensive-secure-bastion-hosts-in-amazon-appstream-2-0/|\n",
      "+------------------------------------------------------------------------------------------------------------------------------------------------------------------------------------------------------------------------------------------------------------------------------------------------------------------------------------------------------------------------------------------+------------------------------------------------------------------------------------------+---------------------------------------------------------------------------------------------------------------------------------------------------------+\n",
      "only showing top 1 row"
     ]
    }
   ],
   "source": [
    "urls.select(F.col(\"postExcerpt\"),F.col(\"title\"),F.col(\"link\")).show(1,1000)"
   ]
  },
  {
   "cell_type": "code",
   "execution_count": 23,
   "id": "444c5496",
   "metadata": {},
   "outputs": [
    {
     "data": {
      "application/vnd.jupyter.widget-view+json": {
       "model_id": "",
       "version_major": 2,
       "version_minor": 0
      },
      "text/plain": [
       "FloatProgress(value=0.0, bar_style='info', description='Progress:', layout=Layout(height='25px', width='50%'),…"
      ]
     },
     "metadata": {},
     "output_type": "display_data"
    },
    {
     "name": "stdout",
     "output_type": "stream",
     "text": [
      "+------------------------------------------------------------------------------------------+---------------------------------------------------------------------------------------------------------------------------------------------------------+-------------------------------------------------------------------------------------------------------------------------------------------------------------------------------------------------------------------------------------------------------------------------------------------------------------------------------------------------------------------------------------------------------------------------------------------------------------------------------------+\n",
      "|                                                                                     title|                                                                                                                                                      url|                                                                                                                                                                                                                                                                                                                                                                                                                                                                                 text|\n",
      "+------------------------------------------------------------------------------------------+---------------------------------------------------------------------------------------------------------------------------------------------------------+-------------------------------------------------------------------------------------------------------------------------------------------------------------------------------------------------------------------------------------------------------------------------------------------------------------------------------------------------------------------------------------------------------------------------------------------------------------------------------------+\n",
      "|Use Elastic fleets and Linux for inexpensive, secure bastion hosts in Amazon AppStream 2.0|https://aws.amazon.com/blogs/desktop-and-application-streaming/use-elastic-fleets-and-linux-for-inexpensive-secure-bastion-hosts-in-amazon-appstream-2-0/|Use Elastic fleets and Linux for inexpensive, secure bastion hosts in Amazon AppStream 2.0 We’ve previously written about the security benefits of using AppStream 2.0 instances as bastion hosts. Bastion hosts (also called “jump boxes”) provide secure access to internal, protected network resources via RDP, SSH, VNC or web browser clients. Now, Elastic fleets combined with Linux instances provide several new advantages for bastion host use cases: Improved cost [...]|\n",
      "+------------------------------------------------------------------------------------------+---------------------------------------------------------------------------------------------------------------------------------------------------------+-------------------------------------------------------------------------------------------------------------------------------------------------------------------------------------------------------------------------------------------------------------------------------------------------------------------------------------------------------------------------------------------------------------------------------------------------------------------------------------+\n",
      "only showing top 1 row"
     ]
    }
   ],
   "source": [
    "medlineplusDF = urls.withColumn(\n",
    "    \"text\",\n",
    "    F.concat(\n",
    "        F.col(\"title\"), \n",
    "        F.lit(\" \"), \n",
    "        F.col(\"postExcerpt\")\n",
    "    )\n",
    ").select(\"title\", F.col(\"link\").alias(\"url\"), \"text\")\n",
    "\n",
    "medlineplusDF.show(1,1000)\n"
   ]
  },
  {
   "cell_type": "code",
   "execution_count": 24,
   "id": "d8a45ea1",
   "metadata": {},
   "outputs": [
    {
     "data": {
      "application/vnd.jupyter.widget-view+json": {
       "model_id": "",
       "version_major": 2,
       "version_minor": 0
      },
      "text/plain": [
       "FloatProgress(value=0.0, bar_style='info', description='Progress:', layout=Layout(height='25px', width='50%'),…"
      ]
     },
     "metadata": {},
     "output_type": "display_data"
    },
    {
     "name": "stdout",
     "output_type": "stream",
     "text": [
      "tfhub_use download started this may take some time.\n",
      "Approximate size to download 923.7 MB\n",
      "[OK!]"
     ]
    }
   ],
   "source": [
    "docass = DocumentAssembler()\\\n",
    "    .setInputCol(\"text\")\\\n",
    "    .setOutputCol(\"document\")\n",
    "\n",
    "sentence_detector_dl = SentenceDetector()\\\n",
    "    .setInputCols([\"document\"])\\\n",
    "    .setOutputCol(\"sentence\")\n",
    "\n",
    "emb_use = UniversalSentenceEncoder.pretrained()\\\n",
    "    .setInputCols(\"sentence\")\\\n",
    "    .setOutputCol(\"use_embeddings\")\n"
   ]
  },
  {
   "cell_type": "code",
   "execution_count": 25,
   "id": "0d9e93ec",
   "metadata": {},
   "outputs": [
    {
     "data": {
      "application/vnd.jupyter.widget-view+json": {
       "model_id": "",
       "version_major": 2,
       "version_minor": 0
      },
      "text/plain": [
       "FloatProgress(value=0.0, bar_style='info', description='Progress:', layout=Layout(height='25px', width='50%'),…"
      ]
     },
     "metadata": {},
     "output_type": "display_data"
    }
   ],
   "source": [
    "pipeline_use = Pipeline(\n",
    "    stages=[\n",
    "        docass, \n",
    "        sentence_detector_dl, \n",
    "        emb_use\n",
    "        ]\n",
    "    )\n",
    "\n",
    "# Fit (or prepare) the pipeline into a model\n",
    "model_use = pipeline_use.fit(medlineplusDF)\n",
    "\n",
    "# Apply the model to our medlineplusDF content and save in a new dataframe\n",
    "medlineplusSentencesDF_init = model_use.transform(medlineplusDF)"
   ]
  },
  {
   "cell_type": "code",
   "execution_count": 26,
   "id": "3b483ce3",
   "metadata": {},
   "outputs": [
    {
     "data": {
      "application/vnd.jupyter.widget-view+json": {
       "model_id": "",
       "version_major": 2,
       "version_minor": 0
      },
      "text/plain": [
       "FloatProgress(value=0.0, bar_style='info', description='Progress:', layout=Layout(height='25px', width='50%'),…"
      ]
     },
     "metadata": {},
     "output_type": "display_data"
    }
   ],
   "source": [
    "medlineplusSentencesDF = medlineplusSentencesDF_init.select(\n",
    "  F.col(\"title\"),\n",
    "  F.col(\"url\"),\n",
    "  F.arrays_zip(\n",
    "    F.col(\"sentence.result\").alias(\"sentence\"),\n",
    "    F.col(\"sentence.begin\").alias(\"begin\"),\n",
    "    F.col(\"sentence.end\").alias(\"end\"),\n",
    "    F.col(\"use_embeddings.embeddings\")\n",
    "  ).alias(\"zip\")\n",
    ").select(\n",
    "  F.col(\"title\"),\n",
    "  F.col(\"url\"),\n",
    "  F.explode(F.col(\"zip\")).alias(\"zip\")\n",
    ").select(\n",
    "  F.col(\"title\"),\n",
    "  F.col(\"url\"),\n",
    "  F.col(\"zip\")['0'].alias(\"sentence\"),\n",
    "  F.col(\"zip\")['1'].alias(\"begin\"),\n",
    "  F.col(\"zip\")['2'].alias(\"end\"),\n",
    "  F.col(\"zip\")['3'].alias(\"embeddings\")\n",
    ").repartition(100)"
   ]
  },
  {
   "cell_type": "code",
   "execution_count": 27,
   "id": "b3f1076e",
   "metadata": {},
   "outputs": [
    {
     "data": {
      "application/vnd.jupyter.widget-view+json": {
       "model_id": "",
       "version_major": 2,
       "version_minor": 0
      },
      "text/plain": [
       "FloatProgress(value=0.0, bar_style='info', description='Progress:', layout=Layout(height='25px', width='50%'),…"
      ]
     },
     "metadata": {},
     "output_type": "display_data"
    }
   ],
   "source": [
    "def avg_vectors(bert_vectors):\n",
    "  length = len(bert_vectors[0][\"embeddings\"])\n",
    "  avg_vec = [0] * length\n",
    "  for vec in bert_vectors:\n",
    "    for i, x in enumerate(vec[\"embeddings\"]):\n",
    "      avg_vec[i] += x\n",
    "    avg_vec[i] = avg_vec[i] / length\n",
    "  return avg_vec\n",
    "\n",
    "import pyspark.sql.types as T\n",
    "\n",
    "avg_vectors_udf = F.udf(avg_vectors, T.ArrayType(T.DoubleType()))\n",
    "\n",
    "myudf = F.udf(lambda vs: Vectors.dense(vs), VectorUDT())\n",
    "\n",
    "df_doc_vec = medlineplusSentencesDF.withColumn(\"doc_vector\", avg_vectors_udf(F.col(\"embeddings\")))"
   ]
  },
  {
   "cell_type": "code",
   "execution_count": 28,
   "id": "f82ad56b",
   "metadata": {},
   "outputs": [
    {
     "data": {
      "application/vnd.jupyter.widget-view+json": {
       "model_id": "",
       "version_major": 2,
       "version_minor": 0
      },
      "text/plain": [
       "FloatProgress(value=0.0, bar_style='info', description='Progress:', layout=Layout(height='25px', width='50%'),…"
      ]
     },
     "metadata": {},
     "output_type": "display_data"
    }
   ],
   "source": [
    "medlineplusSentencesDF_dv = df_doc_vec.select(\n",
    "  \"title\", \n",
    "  \"url\", \n",
    "  \"sentence\", \n",
    "  \"begin\", \n",
    "  \"end\", \n",
    "  myudf(\"embeddings\").alias(\"embeddings\")\n",
    ").repartition(100)"
   ]
  },
  {
   "cell_type": "code",
   "execution_count": 29,
   "id": "5c4bfc11",
   "metadata": {},
   "outputs": [
    {
     "data": {
      "application/vnd.jupyter.widget-view+json": {
       "model_id": "",
       "version_major": 2,
       "version_minor": 0
      },
      "text/plain": [
       "FloatProgress(value=0.0, bar_style='info', description='Progress:', layout=Layout(height='25px', width='50%'),…"
      ]
     },
     "metadata": {},
     "output_type": "display_data"
    }
   ],
   "source": [
    "def get_key(query, model):\n",
    "  queryDF = spark.createDataFrame([[query]]).toDF(\"text\")\n",
    "  queryDF = model.transform(queryDF)\n",
    "  queryDF = queryDF.select(\n",
    "    F.explode(\n",
    "      F.arrays_zip(\n",
    "        F.col(\"sentence.result\"),\n",
    "        F.col(\"use_embeddings.embeddings\")\n",
    "      )\n",
    "    ).alias(\"zip\")\n",
    "  ).select(\n",
    "    F.col(\"zip\")['0'].alias(\"sentence\"),\n",
    "    myudf(F.col(\"zip\")['1']).alias(\"embeddings\")\n",
    "  )  \n",
    "\n",
    "  key = queryDF.select(\"embeddings\").take(1)[0].embeddings\n",
    "  return key"
   ]
  },
  {
   "cell_type": "code",
   "execution_count": 30,
   "id": "9a8b416b",
   "metadata": {},
   "outputs": [
    {
     "data": {
      "application/vnd.jupyter.widget-view+json": {
       "model_id": "",
       "version_major": 2,
       "version_minor": 0
      },
      "text/plain": [
       "FloatProgress(value=0.0, bar_style='info', description='Progress:', layout=Layout(height='25px', width='50%'),…"
      ]
     },
     "metadata": {},
     "output_type": "display_data"
    },
    {
     "name": "stdout",
     "output_type": "stream",
     "text": [
      "DenseVector([0.0633, -0.0581, -0.0637, 0.0431, 0.0389, 0.0371, 0.027, -0.0193, -0.0623, -0.0135, 0.052, -0.0126, 0.0387, 0.0753, 0.0145, -0.0005, 0.0031, 0.0337, 0.0652, -0.041, -0.0444, -0.0724, -0.0748, -0.033, 0.0276, -0.0536, -0.0605, -0.0613, -0.0618, -0.0119, 0.0232, -0.0297, -0.0379, 0.0469, -0.016, 0.0386, 0.054, 0.0021, 0.0303, 0.0046, -0.0024, 0.0188, -0.0132, 0.0758, -0.0707, 0.0633, 0.0572, -0.0371, 0.018, 0.0048, 0.0592, 0.0115, 0.0762, -0.0594, 0.0389, 0.0451, 0.0577, -0.0369, 0.0364, -0.0261, -0.0349, 0.0166, 0.0583, 0.0052, -0.0022, -0.0247, 0.0462, -0.0701, 0.002, 0.0069, -0.049, -0.0553, 0.013, 0.0632, -0.0392, -0.0687, 0.029, -0.0453, -0.0143, -0.0474, -0.0227, 0.0477, 0.0401, 0.0076, 0.0035, 0.0093, -0.0423, -0.0477, -0.0513, -0.062, 0.0397, -0.002, -0.0058, -0.0326, 0.0015, -0.0774, 0.0036, -0.0197, -0.0187, -0.0491, -0.0698, -0.0242, -0.0085, 0.0033, 0.0106, 0.0733, 0.0759, 0.0114, -0.0074, 0.0493, -0.02, 0.022, 0.0071, 0.0198, -0.0278, 0.0418, 0.0595, -0.0517, -0.0096, -0.0798, -0.0574, -0.0521, -0.0722, 0.0108, 0.0807, -0.0239, -0.0017, 0.0237, -0.0197, 0.0188, 0.0341, 0.0399, -0.0623, 0.0076, -0.0672, -0.0004, 0.0432, -0.0515, 0.0451, -0.0669, -0.0145, 0.0128, -0.0515, -0.0569, 0.0045, -0.0033, -0.0204, 0.0639, -0.0034, 0.0088, 0.0508, -0.0529, 0.0673, 0.0348, -0.0446, 0.0159, 0.0728, -0.0781, 0.0225, -0.0288, -0.0414, -0.0131, -0.0239, 0.0005, -0.0365, 0.0409, 0.058, 0.0126, 0.0622, -0.0387, -0.0341, -0.0085, -0.0435, 0.0491, 0.0093, 0.0485, 0.0685, -0.0239, -0.0577, -0.0516, 0.0807, -0.0107, -0.0409, -0.0011, 0.0277, -0.0044, 0.0528, 0.0456, -0.0501, -0.0102, 0.0038, -0.0405, -0.0461, -0.0455, 0.0578, -0.059, 0.0525, 0.0177, 0.0668, -0.0195, -0.0011, 0.0453, 0.0003, -0.0074, -0.0229, -0.0153, -0.0649, -0.0189, 0.0656, -0.0393, 0.0507, 0.0712, 0.0321, -0.0759, 0.0013, -0.0268, 0.0428, 0.0443, 0.0514, 0.0505, 0.0762, 0.0702, -0.0304, 0.0166, -0.0541, 0.0786, 0.0748, -0.0063, 0.0413, 0.0467, 0.0628, -0.0466, 0.0419, -0.0172, 0.0417, 0.0071, 0.0195, 0.0001, 0.001, -0.0468, -0.0383, 0.0262, -0.0245, 0.0211, 0.0191, 0.0145, 0.0628, -0.0451, 0.037, -0.0303, 0.0393, 0.0629, -0.0827, -0.0554, 0.0472, -0.0251, 0.0333, -0.0554, 0.0638, -0.0557, -0.0735, -0.053, -0.0089, 0.0782, 0.0481, -0.02, 0.06, 0.0106, -0.0106, -0.011, -0.0426, 0.0398, -0.0404, 0.0132, -0.0484, 0.029, -0.0652, 0.0629, -0.0828, 0.0346, 0.0533, -0.0254, -0.0051, 0.0459, -0.0332, -0.0405, -0.0333, -0.0312, 0.0317, 0.0409, 0.0554, -0.0191, -0.0735, 0.0404, -0.0718, 0.058, -0.0028, -0.0277, 0.0099, 0.0116, -0.0543, 0.0408, -0.0211, 0.0584, 0.0705, -0.063, 0.0047, -0.0158, 0.0271, 0.0562, -0.006, 0.0131, -0.0447, 0.027, -0.052, -0.0775, 0.0425, -0.0327, -0.0381, -0.0602, 0.0112, -0.0497, -0.0013, 0.0206, 0.0191, 0.0547, -0.04, -0.0636, 0.0588, -0.0041, -0.0303, 0.024, -0.0029, -0.002, 0.05, 0.0217, 0.0342, 0.0515, 0.0076, -0.0163, 0.0361, 0.0137, 0.0071, 0.0471, -0.0002, -0.0591, 0.0306, 0.0402, 0.0301, 0.0351, -0.0467, 0.0452, -0.0214, 0.0408, -0.0152, 0.0591, 0.0031, -0.0254, -0.0574, -0.0472, -0.0675, 0.0315, 0.038, -0.0352, -0.0387, 0.006, 0.0395, 0.0799, 0.0575, 0.0655, 0.0032, 0.0046, 0.0636, -0.0724, -0.0404, -0.0321, 0.0075, -0.0507, -0.0141, 0.0104, 0.0132, 0.0789, 0.0306, 0.0462, 0.0516, 0.0514, 0.0125, 0.0773, -0.0539, -0.0824, -0.0623, 0.0603, 0.0662, -0.0366, 0.0828, 0.0049, -0.0336, 0.0499, 0.0669, -0.0245, 0.0417, 0.0317, -0.0644, -0.0644, 0.0523, -0.08, -0.0488, -0.0203, -0.0753, 0.0294, 0.081, -0.046, -0.0306, 0.0537, -0.0744, 0.0567, 0.036, 0.0319, 0.0827, 0.0349, 0.0469, -0.0618, 0.0425, -0.066, 0.014, 0.0353, -0.0455, -0.066, 0.0267, 0.0349, 0.0645, 0.0565, -0.0185, -0.0033, 0.0212, 0.078, -0.0162, 0.0413, -0.0676, -0.0274, 0.0164, 0.0266, 0.0579, -0.0057, -0.0557, 0.0302, -0.0344, 0.0698, 0.0488, 0.0048, -0.011, 0.0328, -0.0385, -0.0229, 0.0397, -0.0178, 0.0505, 0.0283, -0.0314, -0.0569, 0.0322, -0.0259, 0.0047, 0.0638, 0.0284, 0.0659, -0.0058, 0.0308, -0.0526, -0.0005, -0.0194, -0.0796, 0.0448, 0.0803, 0.0353, -0.0315, -0.0524, 0.0716, 0.049, -0.0456, 0.048, -0.0183, -0.0335, -0.0312, -0.0733, 0.0154, 0.0191, 0.0167, -0.0593, -0.0536, -0.0281, 0.0217, -0.0817, 0.0219, -0.0075, 0.0508, 0.0045, 0.0391, 0.0612, 0.0167, -0.0079, -0.0207, -0.0545, 0.0038, -0.0152, 0.018, 0.0655, -0.0685, 0.0496, 0.0703, -0.0631, 0.0286])"
     ]
    }
   ],
   "source": [
    "get_key(\"How to stream from Hbase?\", model_use)"
   ]
  },
  {
   "cell_type": "code",
   "execution_count": 31,
   "id": "f254d697",
   "metadata": {},
   "outputs": [
    {
     "data": {
      "application/vnd.jupyter.widget-view+json": {
       "model_id": "",
       "version_major": 2,
       "version_minor": 0
      },
      "text/plain": [
       "FloatProgress(value=0.0, bar_style='info', description='Progress:', layout=Layout(height='25px', width='50%'),…"
      ]
     },
     "metadata": {},
     "output_type": "display_data"
    }
   ],
   "source": [
    "brp = BucketedRandomProjectionLSH(\n",
    " inputCol=\"embeddings\",\n",
    " outputCol=\"hashes\",\n",
    " bucketLength=10,\n",
    " numHashTables=5\n",
    ")\n",
    "\n",
    "# Fit the LSH model for our content\n",
    "brp_model = brp.fit(medlineplusSentencesDF_dv)\n",
    "\n",
    "# Apply the model to our content and get the new reduced\n",
    "# representation\n",
    "hashesDF = brp_model.transform(medlineplusSentencesDF_dv)"
   ]
  },
  {
   "cell_type": "code",
   "execution_count": 32,
   "id": "e5747c93",
   "metadata": {},
   "outputs": [
    {
     "data": {
      "application/vnd.jupyter.widget-view+json": {
       "model_id": "",
       "version_major": 2,
       "version_minor": 0
      },
      "text/plain": [
       "FloatProgress(value=0.0, bar_style='info', description='Progress:', layout=Layout(height='25px', width='50%'),…"
      ]
     },
     "metadata": {},
     "output_type": "display_data"
    }
   ],
   "source": [
    "def find_close_sentences(query, emb_model, brp_model, hashesDF, k):\n",
    "  key = get_key(query, emb_model)\n",
    "  resultsDF = brp_model.approxNearestNeighbors(hashesDF, key, k)\n",
    "  return resultsDF"
   ]
  },
  {
   "cell_type": "code",
   "execution_count": null,
   "id": "b97a2977",
   "metadata": {},
   "outputs": [
    {
     "data": {
      "application/vnd.jupyter.widget-view+json": {
       "model_id": "e865c6af21c9494b9a8533c7009d4754",
       "version_major": 2,
       "version_minor": 0
      },
      "text/plain": [
       "FloatProgress(value=0.0, bar_style='info', description='Progress:', layout=Layout(height='25px', width='50%'),…"
      ]
     },
     "metadata": {},
     "output_type": "display_data"
    }
   ],
   "source": [
    "find_close_sentences(\"Optimize spark streaming?\", model_use, brp_model, hashesDF, 5).select(F.col(\"title\"),F.col(\"distCol\"),F.col(\"sentence\")).show(truncate=False)"
   ]
  },
  {
   "cell_type": "code",
   "execution_count": null,
   "id": "9dde0b6c",
   "metadata": {},
   "outputs": [],
   "source": []
  }
 ],
 "metadata": {
  "kernelspec": {
   "display_name": "PySpark",
   "language": "python",
   "name": "pysparkkernel"
  },
  "language_info": {
   "codemirror_mode": {
    "name": "python",
    "version": 3
   },
   "file_extension": ".py",
   "mimetype": "text/x-python",
   "name": "pyspark",
   "pygments_lexer": "python3"
  }
 },
 "nbformat": 4,
 "nbformat_minor": 5
}
